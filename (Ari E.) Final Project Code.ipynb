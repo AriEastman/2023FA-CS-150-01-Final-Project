{
 "cells": [
  {
   "cell_type": "code",
   "execution_count": 1,
   "id": "192c47e6",
   "metadata": {},
   "outputs": [
    {
     "name": "stdout",
     "output_type": "stream",
     "text": [
      "Charles Burns is showing the following artworks from their current collection: Black Hole, Free Shit, Love Nest\n",
      "Robert Crumb is showing the following artworks from their current collection: Kafka, Art & Beauty, Zap\n",
      "Gilbert Hernandez is showing the following artworks from their current collection: Blubber, Pyschodrama, Julios Day\n",
      "Junko Mizuno is showing the following artworks from their current collection: Paradise Sushi, Pure Trance, Triad\n",
      "Alayna Cabral is showing the following artworks from their current collection: Dog On A Vespa, Angry Guy, Miss Pink And Blue\n",
      "\n",
      "Number of artworks for each artist: [3 3 3 3 3]\n"
     ]
    }
   ],
   "source": [
    "import numpy as np\n",
    "\n",
    "class Artist:\n",
    "    def __init__(self, name, artworks):\n",
    "        self.name = name\n",
    "        self.artworks = artworks\n",
    "\n",
    "    def add_artwork(self, artwork):\n",
    "        self.artworks.append(artwork)\n",
    "\n",
    "    def display_info(self):\n",
    "        print(f\"{self.name} is showing the following artworks from their current collection: {', '.join(self.artworks)}\")\n",
    "\n",
    "artists_tuple = ('Charles Burns', 'Robert Crumb', 'Gilbert Hernandez', 'Junko Mizuno', 'Alayna Cabral')\n",
    "\n",
    "artwork_dict = {\n",
    "    'Charles Burns': ['Black Hole', 'Free Shit'],\n",
    "    'Robert Crumb': ['Kafka', 'Art & Beauty'],\n",
    "    'Gilbert Hernandez': ['Blubber', 'Pyschodrama'],\n",
    "    'Junko Mizuno': ['Paradise Sushi', 'Pure Trance'],\n",
    "    'Alayna Cabral': ['Dog On A Vespa', 'Angry Guy']\n",
    "}\n",
    "\n",
    "new_artworks = {\n",
    "    'Charles Burns': 'Love Nest',\n",
    "    'Robert Crumb': 'Zap',\n",
    "    'Gilbert Hernandez': 'Julios Day',\n",
    "    'Junko Mizuno': 'Triad',\n",
    "    'Alayna Cabral': 'Miss Pink And Blue'\n",
    "}\n",
    "\n",
    "artist_objects = []\n",
    "for artist in artists_tuple:\n",
    "    artist_obj = Artist(artist, artwork_dict[artist].copy())\n",
    "    new_artwork = new_artworks[artist]\n",
    "    artist_obj.add_artwork(new_artwork)\n",
    "    artist_objects.append(artist_obj)\n",
    "\n",
    "for artist_obj in artist_objects:\n",
    "    artist_obj.display_info()\n",
    "\n",
    "artwork_counts = np.array([len(artist_obj.artworks) for artist_obj in artist_objects])\n",
    "print(\"\\nNumber of artworks for each artist:\", artwork_counts)"
   ]
  },
  {
   "cell_type": "code",
   "execution_count": null,
   "id": "9f38f7ff",
   "metadata": {},
   "outputs": [],
   "source": []
  }
 ],
 "metadata": {
  "kernelspec": {
   "display_name": "Python 3 (ipykernel)",
   "language": "python",
   "name": "python3"
  },
  "language_info": {
   "codemirror_mode": {
    "name": "ipython",
    "version": 3
   },
   "file_extension": ".py",
   "mimetype": "text/x-python",
   "name": "python",
   "nbconvert_exporter": "python",
   "pygments_lexer": "ipython3",
   "version": "3.11.4"
  }
 },
 "nbformat": 4,
 "nbformat_minor": 5
}
